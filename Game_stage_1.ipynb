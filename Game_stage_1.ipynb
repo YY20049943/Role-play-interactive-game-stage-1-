{
 "cells": [
  {
   "cell_type": "code",
   "execution_count": 3,
   "metadata": {},
   "outputs": [
    {
     "name": "stdout",
     "output_type": "stream",
     "text": [
      "STAGE 1\n",
      "You are a boy born during the war. You were born in 1360 as Hongwu Emperor Zhu Yuanzhang's  child.\n",
      " When you are 7 years old, you were given your name 'Zhu Di'.3 years later you were crowned King of Yan and you were going to manage Beiping in the future.\n",
      "After 10 years' enduring training and life, you became influencial in northern army.You decided to be a responsible seignior.\n",
      "But in 1392, unfortunately, your brother Zhu Biao, the previous prince died.You were supposed to be the next prince for you excellence, but your father crowned Zhu Biao's son Zhu Yunwen. \n",
      " What's more, he was going to decrease your power as the seignior like his grand father did.\n",
      "Are you going to fight against Zhu Yunwen to take his place to be the emperor? If yes, type in '1402'. If no, type in 'quit'. Then press 'Enter'.ii\n",
      "Please check your answers.\n",
      "STAGE 1\n",
      "You are a boy born during the war. You were born in 1360 as Hongwu Emperor Zhu Yuanzhang's  child.\n",
      " When you are 7 years old, you were given your name 'Zhu Di'.3 years later you were crowned King of Yan and you were going to manage Beiping in the future.\n",
      "After 10 years' enduring training and life, you became influencial in northern army.You decided to be a responsible seignior.\n",
      "But in 1392, unfortunately, your brother Zhu Biao, the previous prince died.You were supposed to be the next prince for you excellence, but your father crowned Zhu Biao's son Zhu Yunwen. \n",
      " What's more, he was going to decrease your power as the seignior like his grand father did.\n",
      "Are you going to fight against Zhu Yunwen to take his place to be the emperor? If yes, type in '1402'. If no, type in 'quit'. Then press 'Enter'.1402\n",
      " \n",
      "\n",
      "You launched 'Jingnan Campaign' through Tongzhou, Jizhou and Huairou. Then your nephew attacked you one month after.\n",
      " In the end, you won in capital Nanjing and your nephew Zhu Yunwen lost his track after the palace caught fire.\n",
      " In 1402, you were recognized as Yongle Emperor.\n",
      " You issued some policies to control the nobility.\n",
      "Now another problem came: do you decide to remove the capital to Beiping? If yes, type in '1421'. If no, type in 'stay'. Then press 'Enter'.1421\n",
      "Conguratulations that you did a good decision. By moving to Beiping you set up your own politic institutions that really support you. And you establish diplomatic relations with Mongolia and other northern nations.\n",
      "Next let's go to STAGE2.\n"
     ]
    }
   ],
   "source": [
    "while True:\n",
    "        print(\"STAGE 1\\nYou are a boy born during the war. You were born in 1360 as Hongwu Emperor Zhu Yuanzhang's  child.\\n When you are 7 years old, you were given your name 'Zhu Di'.3 years later you were crowned King of Yan and you were going to manage Beiping in the future.\")\n",
    "        print(\"After 10 years' enduring training and life, you became influencial in northern army.You decided to be a responsible seignior.\")\n",
    "        print(\"But in 1392, unfortunately, your brother Zhu Biao, the previous prince died.You were supposed to be the next prince for you excellence, but your father crowned Zhu Biao's son Zhu Yunwen. \\n What's more, he was going to decrease your power as the seignior like his grand father did.\")\n",
    "        a=input(\"Are you going to fight against Zhu Yunwen to take his place to be the emperor? If yes, type in '1402'. If no, type in 'quit'. Then press 'Enter'.\")\n",
    "        if a==\"quit\":\n",
    "            print(\"END1: What a pity! This is not what happened in the history. You chose not to compete with Zhu Yunwen, and saw him be the emperor. You did not achieve your goal and died with depression several years after.\\n Yet your nephew was not as clever as you imagine. Due to his progressiveness, a number of officers betrayed him. And he was lack of military capabilities, so he could not defend the country. This Dynasty came to the end shortly after its establishment.\")\n",
    "            break\n",
    "        if a==\"1402\":\n",
    "            print(\" \\n\\nYou launched 'Jingnan Campaign' through Tongzhou, Jizhou and Huairou. Then your nephew attacked you one month after.\\n In the end, you won in capital Nanjing and your nephew Zhu Yunwen lost his track after the palace caught fire.\\n In 1402, you were recognized as Yongle Emperor.\\n You issued some policies to control the nobility.\")\n",
    "            b=input(\"Now another problem came: do you decide to remove the capital to Beiping? If yes, type in '1421'. If no, type in 'stay'. Then press 'Enter'.\")\n",
    "            if b==\"stay\":\n",
    "                print(\"END2: It is a pity that you should have done better in the history. Since you seize the throne against your father Hongwu emperor's will, the adminitrators claimed that you rebel the ancestors and refused to cooperate with you.\\n At the same time, you lose control to north military conditions. Your conutry were threatened by Mongolia and other nothern enemies. Soon your country declined during successive wars. \")\n",
    "                break\n",
    "            if b==\"1421\":\n",
    "                print(\"Conguratulations that you did a good decision. By moving to Beiping you set up your own politic institutions that really support you. And you establish diplomatic relations with Mongolia and other northern nations.\\nNext let's go to STAGE2.\")\n",
    "                break          \n",
    "            else: print (\"Please check your answers.\")\n",
    "        else: print(\"Please check your answers.\")"
   ]
  },
  {
   "cell_type": "code",
   "execution_count": null,
   "metadata": {},
   "outputs": [],
   "source": []
  },
  {
   "cell_type": "code",
   "execution_count": null,
   "metadata": {},
   "outputs": [],
   "source": []
  }
 ],
 "metadata": {
  "kernelspec": {
   "display_name": "Python 3",
   "language": "python",
   "name": "python3"
  },
  "language_info": {
   "codemirror_mode": {
    "name": "ipython",
    "version": 3
   },
   "file_extension": ".py",
   "mimetype": "text/x-python",
   "name": "python",
   "nbconvert_exporter": "python",
   "pygments_lexer": "ipython3",
   "version": "3.8.3"
  }
 },
 "nbformat": 4,
 "nbformat_minor": 4
}
